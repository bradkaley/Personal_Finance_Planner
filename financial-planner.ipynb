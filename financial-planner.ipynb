{
 "cells": [
  {
   "cell_type": "markdown",
   "metadata": {},
   "source": [
    "# Unit 5 - Financial Planning"
   ]
  },
  {
   "cell_type": "code",
   "execution_count": 277,
   "metadata": {},
   "outputs": [],
   "source": [
    "# The following is a script to do the following:\n",
    "# 1. \n",
    "# 2.\n",
    "# 3.\n",
    "# 4. "
   ]
  },
  {
   "cell_type": "code",
   "execution_count": 278,
   "metadata": {},
   "outputs": [],
   "source": [
    "#Initial imports\n",
    "import os\n",
    "import requests\n",
    "import pandas as pd\n",
    "from dotenv import load_dotenv\n",
    "import alpaca_trade_api as tradeapi\n",
    "from MCForecastTools import MCSimulation\n",
    "import datetime as dt\n",
    "import json\n",
    "\n",
    "%matplotlib inline"
   ]
  },
  {
   "cell_type": "code",
   "execution_count": 279,
   "metadata": {},
   "outputs": [
    {
     "data": {
      "text/plain": [
       "True"
      ]
     },
     "execution_count": 279,
     "metadata": {},
     "output_type": "execute_result"
    }
   ],
   "source": [
    "#Load the .env enviroment variable with API keys\n",
    "load_dotenv(\"MY_KEYS.env\")"
   ]
  },
  {
   "cell_type": "markdown",
   "metadata": {},
   "source": [
    "## Part 1 - Personal Finance Planner"
   ]
  },
  {
   "cell_type": "markdown",
   "metadata": {},
   "source": [
    "### Collect Crypto Prices Using the `requests` Library"
   ]
  },
  {
   "cell_type": "code",
   "execution_count": 280,
   "metadata": {},
   "outputs": [],
   "source": [
    "#Set the current amount of crypto assets assumed to be in each union member's portfolio\n",
    "my_btc = 1.2\n",
    "my_eth = 5.3"
   ]
  },
  {
   "cell_type": "code",
   "execution_count": 281,
   "metadata": {},
   "outputs": [],
   "source": [
    "# Crypto API URLs\n",
    "btc_url = \"https://api.alternative.me/v2/ticker/Bitcoin/\"\n",
    "eth_url = \"https://api.alternative.me/v2/ticker/Ethereum/\""
   ]
  },
  {
   "cell_type": "code",
   "execution_count": 282,
   "metadata": {},
   "outputs": [
    {
     "name": "stdout",
     "output_type": "stream",
     "text": [
      "[\n",
      "    {\n",
      "        \"data\": {\n",
      "            \"1\": {\n",
      "                \"id\": 1,\n",
      "                \"name\": \"Bitcoin\",\n",
      "                \"symbol\": \"BTC\",\n",
      "                \"website_slug\": \"bitcoin\",\n",
      "                \"rank\": 1,\n",
      "                \"circulating_supply\": 18856556,\n",
      "                \"total_supply\": 18856556,\n",
      "                \"max_supply\": 21000000,\n",
      "                \"quotes\": {\n",
      "                    \"USD\": {\n",
      "                        \"price\": 59080.0,\n",
      "                        \"volume_24h\": 45415212015,\n",
      "                        \"market_cap\": 1114794560655,\n",
      "                        \"percentage_change_1h\": 0.254805183216377,\n",
      "                        \"percentage_change_24h\": -4.27438985060166,\n",
      "                        \"percentage_change_7d\": -10.8063193038395,\n",
      "                        \"percent_change_1h\": 0.254805183216377,\n",
      "                        \"percent_change_24h\": -4.27438985060166,\n",
      "                        \"percent_change_7d\": -10.8063193038395\n",
      "                    }\n",
      "                },\n",
      "                \"last_updated\": 1635395661\n",
      "            }\n",
      "        },\n",
      "        \"metadata\": {\n",
      "            \"timestamp\": 1635395661,\n",
      "            \"num_cryptocurrencies\": 3105,\n",
      "            \"error\": null\n",
      "        }\n",
      "    },\n",
      "    {\n",
      "        \"data\": {\n",
      "            \"1027\": {\n",
      "                \"id\": 1027,\n",
      "                \"name\": \"Ethereum\",\n",
      "                \"symbol\": \"ETH\",\n",
      "                \"website_slug\": \"ethereum\",\n",
      "                \"rank\": 2,\n",
      "                \"circulating_supply\": 118106369,\n",
      "                \"total_supply\": 118106369,\n",
      "                \"max_supply\": 0,\n",
      "                \"quotes\": {\n",
      "                    \"USD\": {\n",
      "                        \"price\": 4005.53,\n",
      "                        \"volume_24h\": 29756982235,\n",
      "                        \"market_cap\": 473196493559,\n",
      "                        \"percentage_change_1h\": 0.261653691401605,\n",
      "                        \"percentage_change_24h\": -6.94903997009938,\n",
      "                        \"percentage_change_7d\": -3.94654266282062,\n",
      "                        \"percent_change_1h\": 0.261653691401605,\n",
      "                        \"percent_change_24h\": -6.94903997009938,\n",
      "                        \"percent_change_7d\": -3.94654266282062\n",
      "                    }\n",
      "                },\n",
      "                \"last_updated\": 1635395683\n",
      "            }\n",
      "        },\n",
      "        \"metadata\": {\n",
      "            \"timestamp\": 1635395683,\n",
      "            \"num_cryptocurrencies\": 3105,\n",
      "            \"error\": null\n",
      "        }\n",
      "    }\n",
      "]\n"
     ]
    }
   ],
   "source": [
    "# Fetch current BTC price\n",
    "btc_response_data = requests.get(btc_url).json()\n",
    "\n",
    "# Fetch current ETH price\n",
    "eth_response_data = requests.get(eth_url).json()\n",
    "\n",
    "print(json.dumps([btc_response_data,eth_response_data], indent=4))"
   ]
  },
  {
   "cell_type": "code",
   "execution_count": 283,
   "metadata": {},
   "outputs": [
    {
     "name": "stdout",
     "output_type": "stream",
     "text": [
      "The current value of your 1.2 BTC is $70896.00\n",
      "The current value of your 5.3 ETH is $21229.31\n"
     ]
    }
   ],
   "source": [
    "#Compute the current value of the cryptocurrency holdings\n",
    "btc_holdings_value = btc_response_data[\"data\"][\"1\"][\"quotes\"][\"USD\"][\"price\"] * my_btc\n",
    "eth_holdings_value = eth_response_data[\"data\"][\"1027\"][\"quotes\"][\"USD\"][\"price\"] * my_eth\n",
    "\n",
    "#Print the current balance of the cryptocurrency holdings\n",
    "print(f\"The current value of your {my_btc} BTC is ${btc_holdings_value:0.2f}\")\n",
    "print(f\"The current value of your {my_eth} ETH is ${eth_holdings_value:0.2f}\")"
   ]
  },
  {
   "cell_type": "markdown",
   "metadata": {},
   "source": [
    "### Collect Investments Data Using Alpaca: `SPY` (stocks) and `AGG` (bonds)"
   ]
  },
  {
   "cell_type": "code",
   "execution_count": 284,
   "metadata": {},
   "outputs": [],
   "source": [
    "#Set the current amount of shares of stocks and bonds assumed to be in each union member's portfolio\n",
    "my_agg = 200\n",
    "my_spy = 50"
   ]
  },
  {
   "cell_type": "code",
   "execution_count": 285,
   "metadata": {},
   "outputs": [],
   "source": [
    "#Set the Alpaca API key and secret from the .env file\n",
    "alpaca_api_key = os.getenv(\"ALPACA_API_KEY\")\n",
    "alpaca_secret_key = os.getenv(\"ALPACA_SECRET_KEY\")\n",
    "\n",
    "#Create the Alpaca API object to communicate the keys\n",
    "api = tradeapi.REST(\n",
    "    alpaca_api_key,\n",
    "    alpaca_secret_key,\n",
    "    api_version = \"v2\"\n",
    ")"
   ]
  },
  {
   "cell_type": "code",
   "execution_count": 286,
   "metadata": {},
   "outputs": [
    {
     "data": {
      "text/html": [
       "<div>\n",
       "<style scoped>\n",
       "    .dataframe tbody tr th:only-of-type {\n",
       "        vertical-align: middle;\n",
       "    }\n",
       "\n",
       "    .dataframe tbody tr th {\n",
       "        vertical-align: top;\n",
       "    }\n",
       "\n",
       "    .dataframe thead tr th {\n",
       "        text-align: left;\n",
       "    }\n",
       "\n",
       "    .dataframe thead tr:last-of-type th {\n",
       "        text-align: right;\n",
       "    }\n",
       "</style>\n",
       "<table border=\"1\" class=\"dataframe\">\n",
       "  <thead>\n",
       "    <tr>\n",
       "      <th></th>\n",
       "      <th colspan=\"5\" halign=\"left\">AGG</th>\n",
       "      <th colspan=\"5\" halign=\"left\">SPY</th>\n",
       "    </tr>\n",
       "    <tr>\n",
       "      <th></th>\n",
       "      <th>open</th>\n",
       "      <th>high</th>\n",
       "      <th>low</th>\n",
       "      <th>close</th>\n",
       "      <th>volume</th>\n",
       "      <th>open</th>\n",
       "      <th>high</th>\n",
       "      <th>low</th>\n",
       "      <th>close</th>\n",
       "      <th>volume</th>\n",
       "    </tr>\n",
       "    <tr>\n",
       "      <th>time</th>\n",
       "      <th></th>\n",
       "      <th></th>\n",
       "      <th></th>\n",
       "      <th></th>\n",
       "      <th></th>\n",
       "      <th></th>\n",
       "      <th></th>\n",
       "      <th></th>\n",
       "      <th></th>\n",
       "      <th></th>\n",
       "    </tr>\n",
       "  </thead>\n",
       "  <tbody>\n",
       "    <tr>\n",
       "      <th>2021-10-21 00:00:00-04:00</th>\n",
       "      <td>114.01</td>\n",
       "      <td>114.0400</td>\n",
       "      <td>113.8423</td>\n",
       "      <td>113.85</td>\n",
       "      <td>4741154.0</td>\n",
       "      <td>451.76</td>\n",
       "      <td>453.829</td>\n",
       "      <td>451.31</td>\n",
       "      <td>453.61</td>\n",
       "      <td>33945007.0</td>\n",
       "    </tr>\n",
       "    <tr>\n",
       "      <th>2021-10-22 00:00:00-04:00</th>\n",
       "      <td>113.97</td>\n",
       "      <td>114.1399</td>\n",
       "      <td>113.8950</td>\n",
       "      <td>114.07</td>\n",
       "      <td>3309637.0</td>\n",
       "      <td>453.13</td>\n",
       "      <td>454.670</td>\n",
       "      <td>451.05</td>\n",
       "      <td>453.13</td>\n",
       "      <td>50771701.0</td>\n",
       "    </tr>\n",
       "    <tr>\n",
       "      <th>2021-10-25 00:00:00-04:00</th>\n",
       "      <td>114.06</td>\n",
       "      <td>114.2700</td>\n",
       "      <td>114.0600</td>\n",
       "      <td>114.17</td>\n",
       "      <td>7088133.0</td>\n",
       "      <td>454.28</td>\n",
       "      <td>455.900</td>\n",
       "      <td>452.39</td>\n",
       "      <td>455.48</td>\n",
       "      <td>37918548.0</td>\n",
       "    </tr>\n",
       "    <tr>\n",
       "      <th>2021-10-26 00:00:00-04:00</th>\n",
       "      <td>114.25</td>\n",
       "      <td>114.3800</td>\n",
       "      <td>114.1100</td>\n",
       "      <td>114.37</td>\n",
       "      <td>5284755.0</td>\n",
       "      <td>457.20</td>\n",
       "      <td>458.490</td>\n",
       "      <td>455.56</td>\n",
       "      <td>455.97</td>\n",
       "      <td>49865704.0</td>\n",
       "    </tr>\n",
       "    <tr>\n",
       "      <th>2021-10-27 00:00:00-04:00</th>\n",
       "      <td>114.66</td>\n",
       "      <td>114.9150</td>\n",
       "      <td>114.4250</td>\n",
       "      <td>114.77</td>\n",
       "      <td>6754544.0</td>\n",
       "      <td>456.45</td>\n",
       "      <td>457.160</td>\n",
       "      <td>453.86</td>\n",
       "      <td>453.92</td>\n",
       "      <td>48105590.0</td>\n",
       "    </tr>\n",
       "  </tbody>\n",
       "</table>\n",
       "</div>"
      ],
      "text/plain": [
       "                              AGG                                         \\\n",
       "                             open      high       low   close     volume   \n",
       "time                                                                       \n",
       "2021-10-21 00:00:00-04:00  114.01  114.0400  113.8423  113.85  4741154.0   \n",
       "2021-10-22 00:00:00-04:00  113.97  114.1399  113.8950  114.07  3309637.0   \n",
       "2021-10-25 00:00:00-04:00  114.06  114.2700  114.0600  114.17  7088133.0   \n",
       "2021-10-26 00:00:00-04:00  114.25  114.3800  114.1100  114.37  5284755.0   \n",
       "2021-10-27 00:00:00-04:00  114.66  114.9150  114.4250  114.77  6754544.0   \n",
       "\n",
       "                              SPY                                       \n",
       "                             open     high     low   close      volume  \n",
       "time                                                                    \n",
       "2021-10-21 00:00:00-04:00  451.76  453.829  451.31  453.61  33945007.0  \n",
       "2021-10-22 00:00:00-04:00  453.13  454.670  451.05  453.13  50771701.0  \n",
       "2021-10-25 00:00:00-04:00  454.28  455.900  452.39  455.48  37918548.0  \n",
       "2021-10-26 00:00:00-04:00  457.20  458.490  455.56  455.97  49865704.0  \n",
       "2021-10-27 00:00:00-04:00  456.45  457.160  453.86  453.92  48105590.0  "
      ]
     },
     "execution_count": 286,
     "metadata": {},
     "output_type": "execute_result"
    }
   ],
   "source": [
    "#Set the start date of the data request to \"today\" using Datetime library which puts it in ISO format\n",
    "start_date = dt.date.today()\n",
    "\n",
    "# Set the tickers\n",
    "tickers = [\"AGG\", \"SPY\"]\n",
    "\n",
    "# Set timeframe to '1D' for Alpaca API\n",
    "timeframe = \"1D\"\n",
    "\n",
    "#Get the current closing prices for SPY and AGG, using a limit of 1000 to get the last 1000 days worth of data\n",
    "stocks_bonds_df = api.get_barset(\n",
    "    tickers,\n",
    "    timeframe,\n",
    "    start=start_date,\n",
    "    limit=1000,\n",
    ").df\n",
    "\n",
    "#Preview the historical price data in the dataframe\n",
    "stocks_bonds_df.tail()"
   ]
  },
  {
   "cell_type": "code",
   "execution_count": 287,
   "metadata": {},
   "outputs": [
    {
     "name": "stdout",
     "output_type": "stream",
     "text": [
      "Current AGG closing price: $114.77\n",
      "Current SPY closing price: $453.92\n"
     ]
    }
   ],
   "source": [
    "#Pull out the current close prices of AGG and SPY\n",
    "#Since this code may be executed prior to the market opening on a certain day, the code cannot be written using .loc[] using the date \"today\" because only yesterday's data would be available\n",
    "#The .loc[] function does not have a simple way to pull out the last row, so here the index is reset to integers so that the .iloc[] function can be used to set the variables for prices, and then the date/time is set as the index once again\n",
    "\n",
    "spy_close_price = stocks_bonds_df[\"SPY\"][\"close\"][-1]    \n",
    "agg_close_price = stocks_bonds_df[\"AGG\"][\"close\"][-1]   \n",
    "\n",
    "#Print the current AGG and SPY close prices\n",
    "print(f\"Current AGG closing price: ${agg_close_price}\")\n",
    "print(f\"Current SPY closing price: ${spy_close_price}\")"
   ]
  },
  {
   "cell_type": "code",
   "execution_count": 288,
   "metadata": {},
   "outputs": [
    {
     "name": "stdout",
     "output_type": "stream",
     "text": [
      "The current value of your 50 SPY shares is $22696.00\n",
      "The current value of your 200 AGG shares is $22954.00\n"
     ]
    }
   ],
   "source": [
    "#Compute the current value of the stocks and bonds in the portfolio by using the current close price\n",
    "my_spy_value = spy_close_price * my_spy\n",
    "my_agg_value = agg_close_price * my_agg\n",
    "\n",
    "#Print current value of the stocks and bonds in the portfolio\n",
    "print(f\"The current value of your {my_spy} SPY shares is ${my_spy_value:0.2f}\")\n",
    "print(f\"The current value of your {my_agg} AGG shares is ${my_agg_value:0.2f}\")"
   ]
  },
  {
   "cell_type": "markdown",
   "metadata": {},
   "source": [
    "### Savings Health Analysis"
   ]
  },
  {
   "cell_type": "code",
   "execution_count": 289,
   "metadata": {},
   "outputs": [
    {
     "data": {
      "text/html": [
       "<div>\n",
       "<style scoped>\n",
       "    .dataframe tbody tr th:only-of-type {\n",
       "        vertical-align: middle;\n",
       "    }\n",
       "\n",
       "    .dataframe tbody tr th {\n",
       "        vertical-align: top;\n",
       "    }\n",
       "\n",
       "    .dataframe thead th {\n",
       "        text-align: right;\n",
       "    }\n",
       "</style>\n",
       "<table border=\"1\" class=\"dataframe\">\n",
       "  <thead>\n",
       "    <tr style=\"text-align: right;\">\n",
       "      <th></th>\n",
       "      <th>Amount</th>\n",
       "    </tr>\n",
       "  </thead>\n",
       "  <tbody>\n",
       "    <tr>\n",
       "      <th>Crypto</th>\n",
       "      <td>92125.309</td>\n",
       "    </tr>\n",
       "    <tr>\n",
       "      <th>Shares</th>\n",
       "      <td>45650.000</td>\n",
       "    </tr>\n",
       "  </tbody>\n",
       "</table>\n",
       "</div>"
      ],
      "text/plain": [
       "           Amount\n",
       "Crypto  92125.309\n",
       "Shares  45650.000"
      ]
     },
     "execution_count": 289,
     "metadata": {},
     "output_type": "execute_result"
    }
   ],
   "source": [
    "#Set the monthly household income of each credit union member\n",
    "monthly_income = 12000\n",
    "\n",
    "#Consolidate the financial assets data into a dictionary\n",
    "assets = {\n",
    "    \"Crypto\" : (btc_holdings_value + eth_holdings_value),\n",
    "    \"Shares\" : (my_spy_value + my_agg_value),\n",
    "}\n",
    "\n",
    "#Create a savings DataFrame with the combined assets\n",
    "df_savings = pd.DataFrame(assets, index=[\"Amount\"]).transpose()\n",
    "\n",
    "#Display the savings DataFrame for viewing\n",
    "df_savings"
   ]
  },
  {
   "cell_type": "code",
   "execution_count": 290,
   "metadata": {},
   "outputs": [
    {
     "data": {
      "text/plain": [
       "<matplotlib.legend.Legend at 0x2368a3888e0>"
      ]
     },
     "execution_count": 290,
     "metadata": {},
     "output_type": "execute_result"
    },
    {
     "data": {
      "image/png": "[encoded data removed]",
      "text/plain": [
       "<Figure size 360x360 with 1 Axes>"
      ]
     },
     "metadata": {},
     "output_type": "display_data"
    }
   ],
   "source": [
    "#Plot the savings breakdown in a pie chart\n",
    "df_savings.plot(kind=\"pie\", y=\"Amount\", figsize = (5,5)).legend(loc=\"lower left\")"
   ]
  },
  {
   "cell_type": "code",
   "execution_count": 291,
   "metadata": {},
   "outputs": [
    {
     "name": "stdout",
     "output_type": "stream",
     "text": [
      "Awesome job! You currently have more than enough money for a proper emergency fund.\n"
     ]
    }
   ],
   "source": [
    "#Set the ideal emergency fund equal to 3 months income\n",
    "emergency_fund = monthly_income * 3\n",
    "\n",
    "#Calculate current total amount of savings by adding the total current value of crypto and shares\n",
    "total_savings= df_savings.sum()[0]\n",
    "\n",
    "#Validate saving health\n",
    "if total_savings > emergency_fund:\n",
    "    print(\"Awesome job! You currently have more than enough money for a proper emergency fund.\")\n",
    "elif total_savings == emergency_fund:\n",
    "    print(\"Congratulations on reaching the finanical goal of having a proper emergency fund!\")\n",
    "else:\n",
    "    print(f\"You're currently ${emergency_fund - total_savings:,.2f} away from meeting your emergency fund goal. Keep saving!\")"
   ]
  },
  {
   "cell_type": "markdown",
   "metadata": {},
   "source": [
    "## Part 2 - Retirement Planning\n",
    "\n",
    "### Monte Carlo Simulation"
   ]
  },
  {
   "cell_type": "code",
   "execution_count": 326,
   "metadata": {},
   "outputs": [],
   "source": [
    "#5 years worth of historical data for SPY and AGG from today is desired which equates to 252 * 5 = 1,260 days (approximately) worth of data. \n",
    "#Since the limit on the amount of data to pull from Alpaca is only 1000, do two GET requests from Alpace to cover the entire timeframe.\n",
    "#To do the two GET requests in the next line of data, need to set two end dates to make sure the data is covered, even if there is overlap between the two. Then convert the dates to ISO format. \n",
    "\n",
    "MC_end_date1 = dt.date.today()\n",
    "MC_end_date2 = MC_end_date.replace(year=MC_end_date.year - 3)\n",
    "MC_start_date = MC_end_date.replace(year=MC_end_date.year - 5)\n",
    "\n",
    "converted_end_date1 = pd.Timestamp(MC_end_date1, tz='America/New_York').isoformat()\n",
    "converted_end_date2 = pd.Timestamp(MC_end_date2, tz='America/New_York').isoformat()\n",
    "converted_start_date = pd.Timestamp(MC_start_date, tz='America/New_York').isoformat()"
   ]
  },
  {
   "cell_type": "code",
   "execution_count": 327,
   "metadata": {},
   "outputs": [],
   "source": [
    "#Get the closing prices for SPY and AGG of the last 5 years by doing two GET requests and storing them in two separate dataframes\n",
    "df_stock_data1 = api.get_barset(\n",
    "    tickers,\n",
    "    timeframe,\n",
    "    start=converted_start_date,\n",
    "    end=converted_end_date1,\n",
    "    limit=1000,\n",
    ").df\n",
    "\n",
    "df_stock_data2 = api.get_barset(\n",
    "    tickers,\n",
    "    timeframe,\n",
    "    start=converted_start_date,\n",
    "    end=converted_end_date2,\n",
    "    limit=1000,\n",
    ").df\n",
    "\n",
    "#Send the two dataframes to csv files to be able to review and clean the data (i.e., remove the common overlapping dates from the GET requests)\n",
    "df_stock_data1.to_csv(path_or_buf='Resources_for_checking/stock_data_1', sep='\\t')\n",
    "df_stock_data2.to_csv(path_or_buf='Resources_for_checking/stock_data_2', sep='\\t')"
   ]
  },
  {
   "cell_type": "code",
   "execution_count": 328,
   "metadata": {},
   "outputs": [],
   "source": [
    "#Remove the common overlapping dates ('2017-11-06' through '2018-10-26') from the noe dataframe and then combine the dataframes by appending them\n",
    "df_stock_data1.drop(df_stock_data1.index[0:245],axis=0,inplace=True)\n",
    "\n",
    "df_stock_data = df_stock_data2.append(df_stock_data1)"
   ]
  },
  {
   "cell_type": "code",
   "execution_count": 329,
   "metadata": {},
   "outputs": [],
   "source": [
    "#Configure the Monte Carlo simulation to forecast 30 years of cumulative returns for the stocks\n",
    "\n",
    "num_sims = 1000\n",
    "\n",
    "MC_stocks = MCSimulation(\n",
    "    portfolio_data = df_stock_data,\n",
    "    weights = [.4,.6],\n",
    "    num_simulation = num_sims,\n",
    "    num_trading_days = 252*30\n",
    ")"
   ]
  },
  {
   "cell_type": "code",
   "execution_count": 330,
   "metadata": {},
   "outputs": [
    {
     "data": {
      "text/html": [
       "<div>\n",
       "<style scoped>\n",
       "    .dataframe tbody tr th:only-of-type {\n",
       "        vertical-align: middle;\n",
       "    }\n",
       "\n",
       "    .dataframe tbody tr th {\n",
       "        vertical-align: top;\n",
       "    }\n",
       "\n",
       "    .dataframe thead tr th {\n",
       "        text-align: left;\n",
       "    }\n",
       "\n",
       "    .dataframe thead tr:last-of-type th {\n",
       "        text-align: right;\n",
       "    }\n",
       "</style>\n",
       "<table border=\"1\" class=\"dataframe\">\n",
       "  <thead>\n",
       "    <tr>\n",
       "      <th></th>\n",
       "      <th colspan=\"6\" halign=\"left\">AGG</th>\n",
       "      <th colspan=\"6\" halign=\"left\">SPY</th>\n",
       "    </tr>\n",
       "    <tr>\n",
       "      <th></th>\n",
       "      <th>open</th>\n",
       "      <th>high</th>\n",
       "      <th>low</th>\n",
       "      <th>close</th>\n",
       "      <th>volume</th>\n",
       "      <th>daily_return</th>\n",
       "      <th>open</th>\n",
       "      <th>high</th>\n",
       "      <th>low</th>\n",
       "      <th>close</th>\n",
       "      <th>volume</th>\n",
       "      <th>daily_return</th>\n",
       "    </tr>\n",
       "    <tr>\n",
       "      <th>time</th>\n",
       "      <th></th>\n",
       "      <th></th>\n",
       "      <th></th>\n",
       "      <th></th>\n",
       "      <th></th>\n",
       "      <th></th>\n",
       "      <th></th>\n",
       "      <th></th>\n",
       "      <th></th>\n",
       "      <th></th>\n",
       "      <th></th>\n",
       "      <th></th>\n",
       "    </tr>\n",
       "  </thead>\n",
       "  <tbody>\n",
       "    <tr>\n",
       "      <th>2016-10-27 00:00:00-04:00</th>\n",
       "      <td>111.25</td>\n",
       "      <td>111.2800</td>\n",
       "      <td>111.04</td>\n",
       "      <td>111.170</td>\n",
       "      <td>2109981</td>\n",
       "      <td>NaN</td>\n",
       "      <td>214.58</td>\n",
       "      <td>214.62</td>\n",
       "      <td>213.08</td>\n",
       "      <td>213.18</td>\n",
       "      <td>60252470</td>\n",
       "      <td>NaN</td>\n",
       "    </tr>\n",
       "    <tr>\n",
       "      <th>2016-10-28 00:00:00-04:00</th>\n",
       "      <td>111.11</td>\n",
       "      <td>111.2600</td>\n",
       "      <td>111.08</td>\n",
       "      <td>111.170</td>\n",
       "      <td>1569008</td>\n",
       "      <td>0.000000</td>\n",
       "      <td>213.14</td>\n",
       "      <td>213.93</td>\n",
       "      <td>211.71</td>\n",
       "      <td>212.52</td>\n",
       "      <td>115001746</td>\n",
       "      <td>-0.003096</td>\n",
       "    </tr>\n",
       "    <tr>\n",
       "      <th>2016-10-31 00:00:00-04:00</th>\n",
       "      <td>111.30</td>\n",
       "      <td>111.3300</td>\n",
       "      <td>111.21</td>\n",
       "      <td>111.300</td>\n",
       "      <td>2767719</td>\n",
       "      <td>0.001169</td>\n",
       "      <td>212.93</td>\n",
       "      <td>213.19</td>\n",
       "      <td>212.36</td>\n",
       "      <td>212.51</td>\n",
       "      <td>47327612</td>\n",
       "      <td>-0.000047</td>\n",
       "    </tr>\n",
       "    <tr>\n",
       "      <th>2016-11-01 00:00:00-04:00</th>\n",
       "      <td>110.88</td>\n",
       "      <td>111.1342</td>\n",
       "      <td>110.82</td>\n",
       "      <td>111.035</td>\n",
       "      <td>4524305</td>\n",
       "      <td>-0.002381</td>\n",
       "      <td>212.93</td>\n",
       "      <td>212.99</td>\n",
       "      <td>209.60</td>\n",
       "      <td>211.00</td>\n",
       "      <td>95507331</td>\n",
       "      <td>-0.007106</td>\n",
       "    </tr>\n",
       "    <tr>\n",
       "      <th>2016-11-02 00:00:00-04:00</th>\n",
       "      <td>111.12</td>\n",
       "      <td>111.3200</td>\n",
       "      <td>111.06</td>\n",
       "      <td>111.160</td>\n",
       "      <td>2390357</td>\n",
       "      <td>0.001126</td>\n",
       "      <td>210.67</td>\n",
       "      <td>211.10</td>\n",
       "      <td>209.23</td>\n",
       "      <td>209.70</td>\n",
       "      <td>80583348</td>\n",
       "      <td>-0.006161</td>\n",
       "    </tr>\n",
       "  </tbody>\n",
       "</table>\n",
       "</div>"
      ],
      "text/plain": [
       "                              AGG                                      \\\n",
       "                             open      high     low    close   volume   \n",
       "time                                                                    \n",
       "2016-10-27 00:00:00-04:00  111.25  111.2800  111.04  111.170  2109981   \n",
       "2016-10-28 00:00:00-04:00  111.11  111.2600  111.08  111.170  1569008   \n",
       "2016-10-31 00:00:00-04:00  111.30  111.3300  111.21  111.300  2767719   \n",
       "2016-11-01 00:00:00-04:00  110.88  111.1342  110.82  111.035  4524305   \n",
       "2016-11-02 00:00:00-04:00  111.12  111.3200  111.06  111.160  2390357   \n",
       "\n",
       "                                           SPY                          \\\n",
       "                          daily_return    open    high     low   close   \n",
       "time                                                                     \n",
       "2016-10-27 00:00:00-04:00          NaN  214.58  214.62  213.08  213.18   \n",
       "2016-10-28 00:00:00-04:00     0.000000  213.14  213.93  211.71  212.52   \n",
       "2016-10-31 00:00:00-04:00     0.001169  212.93  213.19  212.36  212.51   \n",
       "2016-11-01 00:00:00-04:00    -0.002381  212.93  212.99  209.60  211.00   \n",
       "2016-11-02 00:00:00-04:00     0.001126  210.67  211.10  209.23  209.70   \n",
       "\n",
       "                                                   \n",
       "                              volume daily_return  \n",
       "time                                               \n",
       "2016-10-27 00:00:00-04:00   60252470          NaN  \n",
       "2016-10-28 00:00:00-04:00  115001746    -0.003096  \n",
       "2016-10-31 00:00:00-04:00   47327612    -0.000047  \n",
       "2016-11-01 00:00:00-04:00   95507331    -0.007106  \n",
       "2016-11-02 00:00:00-04:00   80583348    -0.006161  "
      ]
     },
     "execution_count": 330,
     "metadata": {},
     "output_type": "execute_result"
    }
   ],
   "source": [
    "#Print the simulation input data\n",
    "MC_stocks.portfolio_data.head()"
   ]
  },
  {
   "cell_type": "code",
   "execution_count": 331,
   "metadata": {},
   "outputs": [
    {
     "name": "stdout",
     "output_type": "stream",
     "text": [
      "Running Monte Carlo simulation number 0.\n",
      "Running Monte Carlo simulation number 10.\n",
      "Running Monte Carlo simulation number 20.\n",
      "Running Monte Carlo simulation number 30.\n",
      "Running Monte Carlo simulation number 40.\n",
      "Running Monte Carlo simulation number 50.\n",
      "Running Monte Carlo simulation number 60.\n",
      "Running Monte Carlo simulation number 70.\n",
      "Running Monte Carlo simulation number 80.\n",
      "Running Monte Carlo simulation number 90.\n",
      "Running Monte Carlo simulation number 100.\n"
     ]
    },
    {
     "name": "stderr",
     "output_type": "stream",
     "text": [
      "C:\\Users\\bradl\\OneDrive\\Desktop\\FinTech\\Homeworks\\Personal_Finance_Planner\\MCForecastTools.py:117: PerformanceWarning: DataFrame is highly fragmented.  This is usually the result of calling `frame.insert` many times, which has poor performance.  Consider joining all columns at once using pd.concat(axis=1) instead.  To get a de-fragmented frame, use `newframe = frame.copy()`\n",
      "  portfolio_cumulative_returns[n] = (1 + sim_df.fillna(0)).cumprod()\n"
     ]
    },
    {
     "name": "stdout",
     "output_type": "stream",
     "text": [
      "Running Monte Carlo simulation number 110.\n",
      "Running Monte Carlo simulation number 120.\n",
      "Running Monte Carlo simulation number 130.\n",
      "Running Monte Carlo simulation number 140.\n",
      "Running Monte Carlo simulation number 150.\n",
      "Running Monte Carlo simulation number 160.\n",
      "Running Monte Carlo simulation number 170.\n",
      "Running Monte Carlo simulation number 180.\n",
      "Running Monte Carlo simulation number 190.\n",
      "Running Monte Carlo simulation number 200.\n",
      "Running Monte Carlo simulation number 210.\n",
      "Running Monte Carlo simulation number 220.\n",
      "Running Monte Carlo simulation number 230.\n",
      "Running Monte Carlo simulation number 240.\n",
      "Running Monte Carlo simulation number 250.\n",
      "Running Monte Carlo simulation number 260.\n",
      "Running Monte Carlo simulation number 270.\n",
      "Running Monte Carlo simulation number 280.\n",
      "Running Monte Carlo simulation number 290.\n",
      "Running Monte Carlo simulation number 300.\n",
      "Running Monte Carlo simulation number 310.\n",
      "Running Monte Carlo simulation number 320.\n",
      "Running Monte Carlo simulation number 330.\n",
      "Running Monte Carlo simulation number 340.\n",
      "Running Monte Carlo simulation number 350.\n",
      "Running Monte Carlo simulation number 360.\n",
      "Running Monte Carlo simulation number 370.\n",
      "Running Monte Carlo simulation number 380.\n",
      "Running Monte Carlo simulation number 390.\n",
      "Running Monte Carlo simulation number 400.\n",
      "Running Monte Carlo simulation number 410.\n",
      "Running Monte Carlo simulation number 420.\n",
      "Running Monte Carlo simulation number 430.\n",
      "Running Monte Carlo simulation number 440.\n",
      "Running Monte Carlo simulation number 450.\n",
      "Running Monte Carlo simulation number 460.\n",
      "Running Monte Carlo simulation number 470.\n",
      "Running Monte Carlo simulation number 480.\n",
      "Running Monte Carlo simulation number 490.\n",
      "Running Monte Carlo simulation number 500.\n",
      "Running Monte Carlo simulation number 510.\n",
      "Running Monte Carlo simulation number 520.\n",
      "Running Monte Carlo simulation number 530.\n",
      "Running Monte Carlo simulation number 540.\n",
      "Running Monte Carlo simulation number 550.\n",
      "Running Monte Carlo simulation number 560.\n",
      "Running Monte Carlo simulation number 570.\n",
      "Running Monte Carlo simulation number 580.\n",
      "Running Monte Carlo simulation number 590.\n",
      "Running Monte Carlo simulation number 600.\n",
      "Running Monte Carlo simulation number 610.\n",
      "Running Monte Carlo simulation number 620.\n",
      "Running Monte Carlo simulation number 630.\n",
      "Running Monte Carlo simulation number 640.\n",
      "Running Monte Carlo simulation number 650.\n",
      "Running Monte Carlo simulation number 660.\n",
      "Running Monte Carlo simulation number 670.\n",
      "Running Monte Carlo simulation number 680.\n",
      "Running Monte Carlo simulation number 690.\n",
      "Running Monte Carlo simulation number 700.\n",
      "Running Monte Carlo simulation number 710.\n",
      "Running Monte Carlo simulation number 720.\n",
      "Running Monte Carlo simulation number 730.\n",
      "Running Monte Carlo simulation number 740.\n",
      "Running Monte Carlo simulation number 750.\n",
      "Running Monte Carlo simulation number 760.\n",
      "Running Monte Carlo simulation number 770.\n",
      "Running Monte Carlo simulation number 780.\n",
      "Running Monte Carlo simulation number 790.\n",
      "Running Monte Carlo simulation number 800.\n",
      "Running Monte Carlo simulation number 810.\n",
      "Running Monte Carlo simulation number 820.\n",
      "Running Monte Carlo simulation number 830.\n",
      "Running Monte Carlo simulation number 840.\n",
      "Running Monte Carlo simulation number 850.\n",
      "Running Monte Carlo simulation number 860.\n",
      "Running Monte Carlo simulation number 870.\n",
      "Running Monte Carlo simulation number 880.\n",
      "Running Monte Carlo simulation number 890.\n",
      "Running Monte Carlo simulation number 900.\n",
      "Running Monte Carlo simulation number 910.\n",
      "Running Monte Carlo simulation number 920.\n",
      "Running Monte Carlo simulation number 930.\n",
      "Running Monte Carlo simulation number 940.\n",
      "Running Monte Carlo simulation number 950.\n",
      "Running Monte Carlo simulation number 960.\n",
      "Running Monte Carlo simulation number 970.\n",
      "Running Monte Carlo simulation number 980.\n",
      "Running Monte Carlo simulation number 990.\n"
     ]
    },
    {
     "data": {
      "text/html": [
       "<div>\n",
       "<style scoped>\n",
       "    .dataframe tbody tr th:only-of-type {\n",
       "        vertical-align: middle;\n",
       "    }\n",
       "\n",
       "    .dataframe tbody tr th {\n",
       "        vertical-align: top;\n",
       "    }\n",
       "\n",
       "    .dataframe thead th {\n",
       "        text-align: right;\n",
       "    }\n",
       "</style>\n",
       "<table border=\"1\" class=\"dataframe\">\n",
       "  <thead>\n",
       "    <tr style=\"text-align: right;\">\n",
       "      <th></th>\n",
       "      <th>0</th>\n",
       "      <th>1</th>\n",
       "      <th>2</th>\n",
       "      <th>3</th>\n",
       "      <th>4</th>\n",
       "      <th>5</th>\n",
       "      <th>6</th>\n",
       "      <th>7</th>\n",
       "      <th>8</th>\n",
       "      <th>9</th>\n",
       "      <th>...</th>\n",
       "      <th>990</th>\n",
       "      <th>991</th>\n",
       "      <th>992</th>\n",
       "      <th>993</th>\n",
       "      <th>994</th>\n",
       "      <th>995</th>\n",
       "      <th>996</th>\n",
       "      <th>997</th>\n",
       "      <th>998</th>\n",
       "      <th>999</th>\n",
       "    </tr>\n",
       "  </thead>\n",
       "  <tbody>\n",
       "    <tr>\n",
       "      <th>0</th>\n",
       "      <td>1.000000</td>\n",
       "      <td>1.000000</td>\n",
       "      <td>1.000000</td>\n",
       "      <td>1.000000</td>\n",
       "      <td>1.000000</td>\n",
       "      <td>1.000000</td>\n",
       "      <td>1.000000</td>\n",
       "      <td>1.000000</td>\n",
       "      <td>1.000000</td>\n",
       "      <td>1.000000</td>\n",
       "      <td>...</td>\n",
       "      <td>1.000000</td>\n",
       "      <td>1.000000</td>\n",
       "      <td>1.000000</td>\n",
       "      <td>1.000000</td>\n",
       "      <td>1.000000</td>\n",
       "      <td>1.000000</td>\n",
       "      <td>1.000000</td>\n",
       "      <td>1.000000</td>\n",
       "      <td>1.000000</td>\n",
       "      <td>1.000000</td>\n",
       "    </tr>\n",
       "    <tr>\n",
       "      <th>1</th>\n",
       "      <td>0.999769</td>\n",
       "      <td>1.004501</td>\n",
       "      <td>1.003439</td>\n",
       "      <td>1.004105</td>\n",
       "      <td>0.988761</td>\n",
       "      <td>1.005077</td>\n",
       "      <td>0.994586</td>\n",
       "      <td>1.002286</td>\n",
       "      <td>0.995777</td>\n",
       "      <td>0.997404</td>\n",
       "      <td>...</td>\n",
       "      <td>1.013031</td>\n",
       "      <td>1.005854</td>\n",
       "      <td>1.000274</td>\n",
       "      <td>0.989583</td>\n",
       "      <td>0.986993</td>\n",
       "      <td>1.001175</td>\n",
       "      <td>1.010242</td>\n",
       "      <td>1.003978</td>\n",
       "      <td>0.992120</td>\n",
       "      <td>0.996135</td>\n",
       "    </tr>\n",
       "    <tr>\n",
       "      <th>2</th>\n",
       "      <td>1.009413</td>\n",
       "      <td>1.005774</td>\n",
       "      <td>1.006461</td>\n",
       "      <td>1.007456</td>\n",
       "      <td>0.988702</td>\n",
       "      <td>1.000241</td>\n",
       "      <td>0.996691</td>\n",
       "      <td>1.002739</td>\n",
       "      <td>1.004174</td>\n",
       "      <td>0.993010</td>\n",
       "      <td>...</td>\n",
       "      <td>1.023426</td>\n",
       "      <td>1.014868</td>\n",
       "      <td>0.991494</td>\n",
       "      <td>0.998163</td>\n",
       "      <td>0.991706</td>\n",
       "      <td>1.010759</td>\n",
       "      <td>1.007796</td>\n",
       "      <td>1.008244</td>\n",
       "      <td>0.999929</td>\n",
       "      <td>1.004300</td>\n",
       "    </tr>\n",
       "    <tr>\n",
       "      <th>3</th>\n",
       "      <td>1.014384</td>\n",
       "      <td>1.001088</td>\n",
       "      <td>0.987271</td>\n",
       "      <td>1.003786</td>\n",
       "      <td>0.996358</td>\n",
       "      <td>1.006423</td>\n",
       "      <td>1.002822</td>\n",
       "      <td>0.993198</td>\n",
       "      <td>1.010318</td>\n",
       "      <td>0.991474</td>\n",
       "      <td>...</td>\n",
       "      <td>1.020877</td>\n",
       "      <td>1.029618</td>\n",
       "      <td>0.997306</td>\n",
       "      <td>1.004807</td>\n",
       "      <td>0.982355</td>\n",
       "      <td>1.012574</td>\n",
       "      <td>1.010533</td>\n",
       "      <td>1.002865</td>\n",
       "      <td>1.004691</td>\n",
       "      <td>0.998482</td>\n",
       "    </tr>\n",
       "    <tr>\n",
       "      <th>4</th>\n",
       "      <td>1.020776</td>\n",
       "      <td>1.015186</td>\n",
       "      <td>0.975887</td>\n",
       "      <td>0.997031</td>\n",
       "      <td>0.999891</td>\n",
       "      <td>0.995992</td>\n",
       "      <td>0.998027</td>\n",
       "      <td>0.992062</td>\n",
       "      <td>1.008534</td>\n",
       "      <td>1.012799</td>\n",
       "      <td>...</td>\n",
       "      <td>1.008161</td>\n",
       "      <td>1.034837</td>\n",
       "      <td>0.988778</td>\n",
       "      <td>1.001092</td>\n",
       "      <td>0.985188</td>\n",
       "      <td>1.012383</td>\n",
       "      <td>1.010471</td>\n",
       "      <td>0.996594</td>\n",
       "      <td>1.006161</td>\n",
       "      <td>0.992665</td>\n",
       "    </tr>\n",
       "    <tr>\n",
       "      <th>...</th>\n",
       "      <td>...</td>\n",
       "      <td>...</td>\n",
       "      <td>...</td>\n",
       "      <td>...</td>\n",
       "      <td>...</td>\n",
       "      <td>...</td>\n",
       "      <td>...</td>\n",
       "      <td>...</td>\n",
       "      <td>...</td>\n",
       "      <td>...</td>\n",
       "      <td>...</td>\n",
       "      <td>...</td>\n",
       "      <td>...</td>\n",
       "      <td>...</td>\n",
       "      <td>...</td>\n",
       "      <td>...</td>\n",
       "      <td>...</td>\n",
       "      <td>...</td>\n",
       "      <td>...</td>\n",
       "      <td>...</td>\n",
       "      <td>...</td>\n",
       "    </tr>\n",
       "    <tr>\n",
       "      <th>7556</th>\n",
       "      <td>8.172220</td>\n",
       "      <td>13.177382</td>\n",
       "      <td>25.881634</td>\n",
       "      <td>13.603111</td>\n",
       "      <td>15.754077</td>\n",
       "      <td>62.362872</td>\n",
       "      <td>14.396751</td>\n",
       "      <td>30.521533</td>\n",
       "      <td>6.536874</td>\n",
       "      <td>46.951627</td>\n",
       "      <td>...</td>\n",
       "      <td>15.619654</td>\n",
       "      <td>33.901821</td>\n",
       "      <td>41.759862</td>\n",
       "      <td>25.627062</td>\n",
       "      <td>86.710993</td>\n",
       "      <td>14.005877</td>\n",
       "      <td>15.831019</td>\n",
       "      <td>112.840648</td>\n",
       "      <td>23.935970</td>\n",
       "      <td>17.555368</td>\n",
       "    </tr>\n",
       "    <tr>\n",
       "      <th>7557</th>\n",
       "      <td>8.092699</td>\n",
       "      <td>13.124735</td>\n",
       "      <td>25.645385</td>\n",
       "      <td>13.541403</td>\n",
       "      <td>15.775728</td>\n",
       "      <td>62.287175</td>\n",
       "      <td>14.336566</td>\n",
       "      <td>30.504169</td>\n",
       "      <td>6.584746</td>\n",
       "      <td>47.453259</td>\n",
       "      <td>...</td>\n",
       "      <td>15.775900</td>\n",
       "      <td>33.872421</td>\n",
       "      <td>42.592317</td>\n",
       "      <td>25.432988</td>\n",
       "      <td>87.333991</td>\n",
       "      <td>13.977886</td>\n",
       "      <td>15.847274</td>\n",
       "      <td>112.943780</td>\n",
       "      <td>24.161644</td>\n",
       "      <td>17.714141</td>\n",
       "    </tr>\n",
       "    <tr>\n",
       "      <th>7558</th>\n",
       "      <td>8.187470</td>\n",
       "      <td>13.218681</td>\n",
       "      <td>25.999485</td>\n",
       "      <td>13.668978</td>\n",
       "      <td>15.882468</td>\n",
       "      <td>62.750549</td>\n",
       "      <td>14.451486</td>\n",
       "      <td>30.311939</td>\n",
       "      <td>6.561830</td>\n",
       "      <td>47.581709</td>\n",
       "      <td>...</td>\n",
       "      <td>15.693616</td>\n",
       "      <td>33.963179</td>\n",
       "      <td>43.124075</td>\n",
       "      <td>25.753664</td>\n",
       "      <td>87.988948</td>\n",
       "      <td>14.020756</td>\n",
       "      <td>15.872151</td>\n",
       "      <td>112.989260</td>\n",
       "      <td>24.001612</td>\n",
       "      <td>17.748151</td>\n",
       "    </tr>\n",
       "    <tr>\n",
       "      <th>7559</th>\n",
       "      <td>8.190037</td>\n",
       "      <td>13.199430</td>\n",
       "      <td>26.395022</td>\n",
       "      <td>13.682062</td>\n",
       "      <td>15.852542</td>\n",
       "      <td>62.160638</td>\n",
       "      <td>14.545587</td>\n",
       "      <td>30.462489</td>\n",
       "      <td>6.557285</td>\n",
       "      <td>47.088984</td>\n",
       "      <td>...</td>\n",
       "      <td>15.870382</td>\n",
       "      <td>34.479285</td>\n",
       "      <td>42.766931</td>\n",
       "      <td>25.653801</td>\n",
       "      <td>88.518685</td>\n",
       "      <td>13.982706</td>\n",
       "      <td>15.930123</td>\n",
       "      <td>112.929724</td>\n",
       "      <td>24.071655</td>\n",
       "      <td>17.875931</td>\n",
       "    </tr>\n",
       "    <tr>\n",
       "      <th>7560</th>\n",
       "      <td>8.237234</td>\n",
       "      <td>13.154834</td>\n",
       "      <td>26.353328</td>\n",
       "      <td>13.622628</td>\n",
       "      <td>16.078837</td>\n",
       "      <td>62.675622</td>\n",
       "      <td>14.590955</td>\n",
       "      <td>30.610516</td>\n",
       "      <td>6.567881</td>\n",
       "      <td>47.272223</td>\n",
       "      <td>...</td>\n",
       "      <td>15.864906</td>\n",
       "      <td>34.465461</td>\n",
       "      <td>42.470164</td>\n",
       "      <td>25.538048</td>\n",
       "      <td>87.883633</td>\n",
       "      <td>13.972817</td>\n",
       "      <td>15.798609</td>\n",
       "      <td>112.476574</td>\n",
       "      <td>24.259251</td>\n",
       "      <td>17.781795</td>\n",
       "    </tr>\n",
       "  </tbody>\n",
       "</table>\n",
       "<p>7561 rows × 1000 columns</p>\n",
       "</div>"
      ],
      "text/plain": [
       "           0          1          2          3          4          5    \\\n",
       "0     1.000000   1.000000   1.000000   1.000000   1.000000   1.000000   \n",
       "1     0.999769   1.004501   1.003439   1.004105   0.988761   1.005077   \n",
       "2     1.009413   1.005774   1.006461   1.007456   0.988702   1.000241   \n",
       "3     1.014384   1.001088   0.987271   1.003786   0.996358   1.006423   \n",
       "4     1.020776   1.015186   0.975887   0.997031   0.999891   0.995992   \n",
       "...        ...        ...        ...        ...        ...        ...   \n",
       "7556  8.172220  13.177382  25.881634  13.603111  15.754077  62.362872   \n",
       "7557  8.092699  13.124735  25.645385  13.541403  15.775728  62.287175   \n",
       "7558  8.187470  13.218681  25.999485  13.668978  15.882468  62.750549   \n",
       "7559  8.190037  13.199430  26.395022  13.682062  15.852542  62.160638   \n",
       "7560  8.237234  13.154834  26.353328  13.622628  16.078837  62.675622   \n",
       "\n",
       "            6          7         8          9    ...        990        991  \\\n",
       "0      1.000000   1.000000  1.000000   1.000000  ...   1.000000   1.000000   \n",
       "1      0.994586   1.002286  0.995777   0.997404  ...   1.013031   1.005854   \n",
       "2      0.996691   1.002739  1.004174   0.993010  ...   1.023426   1.014868   \n",
       "3      1.002822   0.993198  1.010318   0.991474  ...   1.020877   1.029618   \n",
       "4      0.998027   0.992062  1.008534   1.012799  ...   1.008161   1.034837   \n",
       "...         ...        ...       ...        ...  ...        ...        ...   \n",
       "7556  14.396751  30.521533  6.536874  46.951627  ...  15.619654  33.901821   \n",
       "7557  14.336566  30.504169  6.584746  47.453259  ...  15.775900  33.872421   \n",
       "7558  14.451486  30.311939  6.561830  47.581709  ...  15.693616  33.963179   \n",
       "7559  14.545587  30.462489  6.557285  47.088984  ...  15.870382  34.479285   \n",
       "7560  14.590955  30.610516  6.567881  47.272223  ...  15.864906  34.465461   \n",
       "\n",
       "            992        993        994        995        996         997  \\\n",
       "0      1.000000   1.000000   1.000000   1.000000   1.000000    1.000000   \n",
       "1      1.000274   0.989583   0.986993   1.001175   1.010242    1.003978   \n",
       "2      0.991494   0.998163   0.991706   1.010759   1.007796    1.008244   \n",
       "3      0.997306   1.004807   0.982355   1.012574   1.010533    1.002865   \n",
       "4      0.988778   1.001092   0.985188   1.012383   1.010471    0.996594   \n",
       "...         ...        ...        ...        ...        ...         ...   \n",
       "7556  41.759862  25.627062  86.710993  14.005877  15.831019  112.840648   \n",
       "7557  42.592317  25.432988  87.333991  13.977886  15.847274  112.943780   \n",
       "7558  43.124075  25.753664  87.988948  14.020756  15.872151  112.989260   \n",
       "7559  42.766931  25.653801  88.518685  13.982706  15.930123  112.929724   \n",
       "7560  42.470164  25.538048  87.883633  13.972817  15.798609  112.476574   \n",
       "\n",
       "            998        999  \n",
       "0      1.000000   1.000000  \n",
       "1      0.992120   0.996135  \n",
       "2      0.999929   1.004300  \n",
       "3      1.004691   0.998482  \n",
       "4      1.006161   0.992665  \n",
       "...         ...        ...  \n",
       "7556  23.935970  17.555368  \n",
       "7557  24.161644  17.714141  \n",
       "7558  24.001612  17.748151  \n",
       "7559  24.071655  17.875931  \n",
       "7560  24.259251  17.781795  \n",
       "\n",
       "[7561 rows x 1000 columns]"
      ]
     },
     "execution_count": 331,
     "metadata": {},
     "output_type": "execute_result"
    }
   ],
   "source": [
    "#Run a Monte Carlo simulation to forecast 30 years of cumulative returns for the stocks\n",
    "MC_stocks.calc_cumulative_return()"
   ]
  },
  {
   "cell_type": "code",
   "execution_count": 334,
   "metadata": {},
   "outputs": [
    {
     "data": {
      "image/png": "[encoded data removed]",
      "text/plain": [
       "<Figure size 432x288 with 1 Axes>"
      ]
     },
     "metadata": {
      "needs_background": "light"
     },
     "output_type": "display_data"
    }
   ],
   "source": [
    "#Plot the Monte Carlo simulation outcomes\n",
    "MC_stocks_line_plot = MC_stocks.plot_simulation()"
   ]
  },
  {
   "cell_type": "code",
   "execution_count": 335,
   "metadata": {},
   "outputs": [
    {
     "data": {
      "image/png": "[encoded data removed]",
      "text/plain": [
       "<Figure size 432x288 with 1 Axes>"
      ]
     },
     "metadata": {
      "needs_background": "light"
     },
     "output_type": "display_data"
    }
   ],
   "source": [
    "#Plot the probability distribution and confidence intervals for the Monte Carlo simulation of the future stocks' returns\n",
    "MC_stocks_dist_plot = MC_stocks.plot_distribution()"
   ]
  },
  {
   "cell_type": "markdown",
   "metadata": {},
   "source": [
    "### Retirement Analysis"
   ]
  },
  {
   "cell_type": "code",
   "execution_count": 338,
   "metadata": {},
   "outputs": [
    {
     "name": "stdout",
     "output_type": "stream",
     "text": [
      "count           1000.000000\n",
      "mean              23.636922\n",
      "std               16.945698\n",
      "min                2.506609\n",
      "25%               12.305830\n",
      "50%               19.348962\n",
      "75%               29.648894\n",
      "max              151.537884\n",
      "95% CI Lower       5.267193\n",
      "95% CI Upper      68.435202\n",
      "Name: 7560, dtype: float64\n"
     ]
    }
   ],
   "source": [
    "#Fetch the summary statistics from the Monte Carlo simulation results and print them\n",
    "MC_stocks_stats = MC_stocks.summarize_cumulative_return()\n",
    "print(MC_stocks_stats)"
   ]
  },
  {
   "cell_type": "markdown",
   "metadata": {},
   "source": [
    "### Calculate the expected portfolio return at the `95%` lower and upper confidence intervals based on a `$20,000` initial investment."
   ]
  },
  {
   "cell_type": "code",
   "execution_count": 346,
   "metadata": {},
   "outputs": [
    {
     "name": "stdout",
     "output_type": "stream",
     "text": [
      "There is a 95% chance that an initial investment of $20000 in the portfolio over the next 30 years will end within in the range of $105343.87 and $1368704.04\n"
     ]
    }
   ],
   "source": [
    "#Set an initial investment to $20,000 to predict portfolio returns\n",
    "initial_investment = 20000\n",
    "\n",
    "#Use the lower and upper `95%` confidence intervals to calculate the range of the possible outcomes of the $20,000\n",
    "returns_ci_lower = round(MC_stocks_stats[8]*initial_investment,2)\n",
    "returns_ci_upper = round(MC_stocks_stats[9]*initial_investment,2)\n",
    "\n",
    "#Print the confidence interval results\n",
    "print(f\"There is a 95% chance that an initial investment of ${initial_investment} in the portfolio\"\n",
    "      f\" over the next 30 years will end within in the range of\"\n",
    "      f\" ${returns_ci_lower} and ${returns_ci_upper}\")"
   ]
  },
  {
   "cell_type": "markdown",
   "metadata": {},
   "source": [
    "### Calculate the expected portfolio return at the `95%` lower and upper confidence intervals based on a `50%` increase in the initial investment."
   ]
  },
  {
   "cell_type": "code",
   "execution_count": 347,
   "metadata": {},
   "outputs": [
    {
     "name": "stdout",
     "output_type": "stream",
     "text": [
      "There is a 95% chance that an initial investment of $30000 in the portfolio over the next 30 years will end within in the range of $158015.8 and $2053056.07\n"
     ]
    }
   ],
   "source": [
    "#Increase the initial investment by 50% to predict portfolio returns\n",
    "initial_investment_increased = int(20000 * 1.5)\n",
    "\n",
    "#Use the lower and upper `95%` confidence intervals to calculate the range of the possible outcomes of the $30,000\n",
    "revised_returns_ci_lower = round(MC_stocks_stats[8]*initial_investment_increased,2)\n",
    "revised_returns_ci_upper = round(MC_stocks_stats[9]*initial_investment_increased,2)\n",
    "\n",
    "#Print the confidence interval results\n",
    "print(f\"There is a 95% chance that an initial investment of ${initial_investment_increased} in the portfolio\"\n",
    "      f\" over the next 30 years will end within in the range of\"\n",
    "      f\" ${revised_returns_ci_lower} and ${revised_returns_ci_upper}\")"
   ]
  },
  {
   "cell_type": "markdown",
   "metadata": {},
   "source": [
    "## Optional Challenge - Early Retirement\n",
    "\n",
    "\n",
    "### Five Years Retirement Option"
   ]
  },
  {
   "cell_type": "code",
   "execution_count": null,
   "metadata": {},
   "outputs": [],
   "source": [
    "# Configuring a Monte Carlo simulation to forecast 5 years cumulative returns\n",
    "# YOUR CODE HERE!"
   ]
  },
  {
   "cell_type": "code",
   "execution_count": null,
   "metadata": {},
   "outputs": [],
   "source": [
    "# Running a Monte Carlo simulation to forecast 5 years cumulative returns\n",
    "# YOUR CODE HERE!"
   ]
  },
  {
   "cell_type": "code",
   "execution_count": null,
   "metadata": {},
   "outputs": [],
   "source": [
    "# Plot simulation outcomes\n",
    "# YOUR CODE HERE!"
   ]
  },
  {
   "cell_type": "code",
   "execution_count": null,
   "metadata": {},
   "outputs": [],
   "source": [
    "# Plot probability distribution and confidence intervals\n",
    "# YOUR CODE HERE!"
   ]
  },
  {
   "cell_type": "code",
   "execution_count": null,
   "metadata": {},
   "outputs": [],
   "source": [
    "# Fetch summary statistics from the Monte Carlo simulation results\n",
    "# YOUR CODE HERE!\n",
    "\n",
    "# Print summary statistics\n",
    "# YOUR CODE HERE!"
   ]
  },
  {
   "cell_type": "code",
   "execution_count": null,
   "metadata": {},
   "outputs": [],
   "source": [
    "# Set initial investment\n",
    "# YOUR CODE HERE!\n",
    "\n",
    "# Use the lower and upper `95%` confidence intervals to calculate the range of the possible outcomes of our $60,000\n",
    "# YOUR CODE HERE!\n",
    "\n",
    "# Print results\n",
    "print(f\"There is a 95% chance that an initial investment of ${initial_investment} in the portfolio\"\n",
    "      f\" over the next 5 years will end within in the range of\"\n",
    "      f\" ${ci_lower_five} and ${ci_upper_five}\")"
   ]
  },
  {
   "cell_type": "markdown",
   "metadata": {},
   "source": [
    "### Ten Years Retirement Option"
   ]
  },
  {
   "cell_type": "code",
   "execution_count": null,
   "metadata": {},
   "outputs": [],
   "source": [
    "# Configuring a Monte Carlo simulation to forecast 10 years cumulative returns\n",
    "# YOUR CODE HERE!"
   ]
  },
  {
   "cell_type": "code",
   "execution_count": null,
   "metadata": {},
   "outputs": [],
   "source": [
    "# Running a Monte Carlo simulation to forecast 10 years cumulative returns\n",
    "# YOUR CODE HERE!"
   ]
  },
  {
   "cell_type": "code",
   "execution_count": null,
   "metadata": {},
   "outputs": [],
   "source": [
    "# Plot simulation outcomes\n",
    "# YOUR CODE HERE!"
   ]
  },
  {
   "cell_type": "code",
   "execution_count": null,
   "metadata": {},
   "outputs": [],
   "source": [
    "# Plot probability distribution and confidence intervals\n",
    "# YOUR CODE HERE!"
   ]
  },
  {
   "cell_type": "code",
   "execution_count": null,
   "metadata": {},
   "outputs": [],
   "source": [
    "# Fetch summary statistics from the Monte Carlo simulation results\n",
    "# YOUR CODE HERE!\n",
    "\n",
    "# Print summary statistics\n",
    "# YOUR CODE HERE!"
   ]
  },
  {
   "cell_type": "code",
   "execution_count": null,
   "metadata": {},
   "outputs": [],
   "source": [
    "# Set initial investment\n",
    "# YOUR CODE HERE!\n",
    "\n",
    "# Use the lower and upper `95%` confidence intervals to calculate the range of the possible outcomes of our $60,000\n",
    "# YOUR CODE HERE!\n",
    "\n",
    "# Print results\n",
    "print(f\"There is a 95% chance that an initial investment of ${initial_investment} in the portfolio\"\n",
    "      f\" over the next 10 years will end within in the range of\"\n",
    "      f\" ${ci_lower_ten} and ${ci_upper_ten}\")"
   ]
  },
  {
   "cell_type": "code",
   "execution_count": null,
   "metadata": {},
   "outputs": [],
   "source": []
  }
 ],
 "metadata": {
  "kernelspec": {
   "display_name": "Python 3 (ipykernel)",
   "language": "python",
   "name": "python3"
  },
  "language_info": {
   "codemirror_mode": {
    "name": "ipython",
    "version": 3
   },
   "file_extension": ".py",
   "mimetype": "text/x-python",
   "name": "python",
   "nbconvert_exporter": "python",
   "pygments_lexer": "ipython3",
   "version": "3.8.8"
  },
  "nteract": {
   "version": "0.28.0"
  }
 },
 "nbformat": 4,
 "nbformat_minor": 4
}
